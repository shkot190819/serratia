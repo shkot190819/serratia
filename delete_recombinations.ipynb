{
 "cells": [
  {
   "cell_type": "markdown",
   "id": "6d836da2",
   "metadata": {},
   "source": [
    "The file `serra.importation_status` contains recombination coordinates for all sequences in the alignment. First we merge the coordinates across all sequences (bedtoold merge), then we remove the given nucleotides from all sequences."
   ]
  },
  {
   "cell_type": "code",
   "execution_count": 11,
   "id": "963b9d2d",
   "metadata": {},
   "outputs": [],
   "source": [
    "import pandas as pd\n",
    "from Bio import AlignIO"
   ]
  },
  {
   "cell_type": "code",
   "execution_count": 3,
   "id": "d66b31b1",
   "metadata": {},
   "outputs": [],
   "source": [
    "rec = pd.read_csv('../clonal/serra.importation_status.txt', sep='\\t')"
   ]
  },
  {
   "cell_type": "code",
   "execution_count": 4,
   "id": "cc9d74d6",
   "metadata": {},
   "outputs": [
    {
     "data": {
      "text/html": [
       "<div>\n",
       "<style scoped>\n",
       "    .dataframe tbody tr th:only-of-type {\n",
       "        vertical-align: middle;\n",
       "    }\n",
       "\n",
       "    .dataframe tbody tr th {\n",
       "        vertical-align: top;\n",
       "    }\n",
       "\n",
       "    .dataframe thead th {\n",
       "        text-align: right;\n",
       "    }\n",
       "</style>\n",
       "<table border=\"1\" class=\"dataframe\">\n",
       "  <thead>\n",
       "    <tr style=\"text-align: right;\">\n",
       "      <th></th>\n",
       "      <th>Node</th>\n",
       "      <th>Beg</th>\n",
       "      <th>End</th>\n",
       "    </tr>\n",
       "  </thead>\n",
       "  <tbody>\n",
       "    <tr>\n",
       "      <th>0</th>\n",
       "      <td>GCA_946228595.1_26968_7_169</td>\n",
       "      <td>925165</td>\n",
       "      <td>928546</td>\n",
       "    </tr>\n",
       "    <tr>\n",
       "      <th>1</th>\n",
       "      <td>GCA_946228595.1_26968_7_169</td>\n",
       "      <td>1156205</td>\n",
       "      <td>1157164</td>\n",
       "    </tr>\n",
       "    <tr>\n",
       "      <th>2</th>\n",
       "      <td>GCA_946228595.1_26968_7_169</td>\n",
       "      <td>1170106</td>\n",
       "      <td>1170336</td>\n",
       "    </tr>\n",
       "    <tr>\n",
       "      <th>3</th>\n",
       "      <td>GCA_946228595.1_26968_7_169</td>\n",
       "      <td>1421573</td>\n",
       "      <td>1423897</td>\n",
       "    </tr>\n",
       "    <tr>\n",
       "      <th>4</th>\n",
       "      <td>GCA_946228595.1_26968_7_169</td>\n",
       "      <td>1551512</td>\n",
       "      <td>1552398</td>\n",
       "    </tr>\n",
       "    <tr>\n",
       "      <th>...</th>\n",
       "      <td>...</td>\n",
       "      <td>...</td>\n",
       "      <td>...</td>\n",
       "    </tr>\n",
       "    <tr>\n",
       "      <th>130177</th>\n",
       "      <td>NODE_3711</td>\n",
       "      <td>1024909</td>\n",
       "      <td>1024978</td>\n",
       "    </tr>\n",
       "    <tr>\n",
       "      <th>130178</th>\n",
       "      <td>NODE_3711</td>\n",
       "      <td>1136070</td>\n",
       "      <td>1136085</td>\n",
       "    </tr>\n",
       "    <tr>\n",
       "      <th>130179</th>\n",
       "      <td>NODE_3711</td>\n",
       "      <td>1180503</td>\n",
       "      <td>1180536</td>\n",
       "    </tr>\n",
       "    <tr>\n",
       "      <th>130180</th>\n",
       "      <td>NODE_3711</td>\n",
       "      <td>1518079</td>\n",
       "      <td>1518529</td>\n",
       "    </tr>\n",
       "    <tr>\n",
       "      <th>130181</th>\n",
       "      <td>NODE_3711</td>\n",
       "      <td>1637091</td>\n",
       "      <td>1637172</td>\n",
       "    </tr>\n",
       "  </tbody>\n",
       "</table>\n",
       "<p>130182 rows × 3 columns</p>\n",
       "</div>"
      ],
      "text/plain": [
       "                               Node      Beg      End\n",
       "0       GCA_946228595.1_26968_7_169   925165   928546\n",
       "1       GCA_946228595.1_26968_7_169  1156205  1157164\n",
       "2       GCA_946228595.1_26968_7_169  1170106  1170336\n",
       "3       GCA_946228595.1_26968_7_169  1421573  1423897\n",
       "4       GCA_946228595.1_26968_7_169  1551512  1552398\n",
       "...                             ...      ...      ...\n",
       "130177                    NODE_3711  1024909  1024978\n",
       "130178                    NODE_3711  1136070  1136085\n",
       "130179                    NODE_3711  1180503  1180536\n",
       "130180                    NODE_3711  1518079  1518529\n",
       "130181                    NODE_3711  1637091  1637172\n",
       "\n",
       "[130182 rows x 3 columns]"
      ]
     },
     "execution_count": 4,
     "metadata": {},
     "output_type": "execute_result"
    }
   ],
   "source": [
    "rec"
   ]
  },
  {
   "cell_type": "code",
   "execution_count": 5,
   "id": "8a3376de",
   "metadata": {},
   "outputs": [],
   "source": [
    "rec.Node = 1     # So it's as if all the sequences are on the same chromosome, so they will be merged"
   ]
  },
  {
   "cell_type": "code",
   "execution_count": 6,
   "id": "abbce72d",
   "metadata": {},
   "outputs": [],
   "source": [
    "rec_sorted = rec.sort_values(by=['Beg', 'End']) # \"merge\" requires that the input is sorted \n",
    "                                                # by chromosome and then by start coordinate"
   ]
  },
  {
   "cell_type": "code",
   "execution_count": 7,
   "id": "be7ab233",
   "metadata": {},
   "outputs": [],
   "source": [
    "rec_sorted.to_csv('../clonal/recomb.bed',index=False, header=False, sep='\\t')"
   ]
  },
  {
   "cell_type": "markdown",
   "id": "825bca75",
   "metadata": {},
   "source": [
    "Running commands from the command line:  \n",
    "\n",
    "```\n",
    "bedtools merge -i recomb.bed > recomb_merged.txt\n",
    "cat recomb_merged.txt | wc -l\n",
    "``` \n",
    "\n",
    "All recombinations merged in 479 ranges"
   ]
  },
  {
   "cell_type": "code",
   "execution_count": 9,
   "id": "2e387492",
   "metadata": {},
   "outputs": [],
   "source": [
    "recomb_merged = pd.read_csv('../clonal/recomb_merged.txt', sep='\\t', header=None)"
   ]
  },
  {
   "cell_type": "code",
   "execution_count": 10,
   "id": "abd43304",
   "metadata": {},
   "outputs": [
    {
     "data": {
      "text/html": [
       "<div>\n",
       "<style scoped>\n",
       "    .dataframe tbody tr th:only-of-type {\n",
       "        vertical-align: middle;\n",
       "    }\n",
       "\n",
       "    .dataframe tbody tr th {\n",
       "        vertical-align: top;\n",
       "    }\n",
       "\n",
       "    .dataframe thead th {\n",
       "        text-align: right;\n",
       "    }\n",
       "</style>\n",
       "<table border=\"1\" class=\"dataframe\">\n",
       "  <thead>\n",
       "    <tr style=\"text-align: right;\">\n",
       "      <th></th>\n",
       "      <th>0</th>\n",
       "      <th>1</th>\n",
       "      <th>2</th>\n",
       "    </tr>\n",
       "  </thead>\n",
       "  <tbody>\n",
       "    <tr>\n",
       "      <th>0</th>\n",
       "      <td>1</td>\n",
       "      <td>1</td>\n",
       "      <td>481</td>\n",
       "    </tr>\n",
       "    <tr>\n",
       "      <th>1</th>\n",
       "      <td>1</td>\n",
       "      <td>521</td>\n",
       "      <td>772</td>\n",
       "    </tr>\n",
       "    <tr>\n",
       "      <th>2</th>\n",
       "      <td>1</td>\n",
       "      <td>793</td>\n",
       "      <td>2660</td>\n",
       "    </tr>\n",
       "    <tr>\n",
       "      <th>3</th>\n",
       "      <td>1</td>\n",
       "      <td>2842</td>\n",
       "      <td>3868</td>\n",
       "    </tr>\n",
       "    <tr>\n",
       "      <th>4</th>\n",
       "      <td>1</td>\n",
       "      <td>4066</td>\n",
       "      <td>9004</td>\n",
       "    </tr>\n",
       "    <tr>\n",
       "      <th>...</th>\n",
       "      <td>...</td>\n",
       "      <td>...</td>\n",
       "      <td>...</td>\n",
       "    </tr>\n",
       "    <tr>\n",
       "      <th>474</th>\n",
       "      <td>1</td>\n",
       "      <td>1745701</td>\n",
       "      <td>1751665</td>\n",
       "    </tr>\n",
       "    <tr>\n",
       "      <th>475</th>\n",
       "      <td>1</td>\n",
       "      <td>1752026</td>\n",
       "      <td>1753621</td>\n",
       "    </tr>\n",
       "    <tr>\n",
       "      <th>476</th>\n",
       "      <td>1</td>\n",
       "      <td>1753639</td>\n",
       "      <td>1756022</td>\n",
       "    </tr>\n",
       "    <tr>\n",
       "      <th>477</th>\n",
       "      <td>1</td>\n",
       "      <td>1756139</td>\n",
       "      <td>1766201</td>\n",
       "    </tr>\n",
       "    <tr>\n",
       "      <th>478</th>\n",
       "      <td>1</td>\n",
       "      <td>1766204</td>\n",
       "      <td>1768179</td>\n",
       "    </tr>\n",
       "  </tbody>\n",
       "</table>\n",
       "<p>479 rows × 3 columns</p>\n",
       "</div>"
      ],
      "text/plain": [
       "     0        1        2\n",
       "0    1        1      481\n",
       "1    1      521      772\n",
       "2    1      793     2660\n",
       "3    1     2842     3868\n",
       "4    1     4066     9004\n",
       "..  ..      ...      ...\n",
       "474  1  1745701  1751665\n",
       "475  1  1752026  1753621\n",
       "476  1  1753639  1756022\n",
       "477  1  1756139  1766201\n",
       "478  1  1766204  1768179\n",
       "\n",
       "[479 rows x 3 columns]"
      ]
     },
     "execution_count": 10,
     "metadata": {},
     "output_type": "execute_result"
    }
   ],
   "source": [
    "recomb_merged"
   ]
  },
  {
   "cell_type": "code",
   "execution_count": 12,
   "id": "6150875a",
   "metadata": {},
   "outputs": [
    {
     "name": "stdout",
     "output_type": "stream",
     "text": [
      "Alignment length 1768179\n"
     ]
    }
   ],
   "source": [
    "alignment = AlignIO.read(open(\"../core_gene_alignment_copy.fixed.fasta\"), \"fasta\")\n",
    "print(\"Alignment length %i\" % alignment.get_alignment_length())"
   ]
  },
  {
   "cell_type": "code",
   "execution_count": 13,
   "id": "7517100b",
   "metadata": {},
   "outputs": [],
   "source": [
    "for record in alignment:\n",
    "    for i in range(len(recomb_merged)-1,-1,-1):\n",
    "        s = recomb_merged.loc[:,1][i]-1     # s - start   (index in python -1)\n",
    "        e = recomb_merged.loc[:,2][i]                #  without -1 - not include end coordinate  \n",
    "        record.seq = record.seq[:s] + record.seq[e:]\n"
   ]
  },
  {
   "cell_type": "code",
   "execution_count": null,
   "id": "d052de26",
   "metadata": {},
   "outputs": [],
   "source": [
    "print(\"Alignment length %i\" % alignment.get_alignment_length())"
   ]
  },
  {
   "cell_type": "code",
   "execution_count": null,
   "id": "2e04600c",
   "metadata": {},
   "outputs": [],
   "source": [
    "AlignIO.write(alignment, '../clonal/align_wo_rec.fasta', 'fasta')"
   ]
  },
  {
   "cell_type": "code",
   "execution_count": null,
   "id": "396f062f",
   "metadata": {},
   "outputs": [],
   "source": []
  }
 ],
 "metadata": {
  "kernelspec": {
   "display_name": "Python 3 (ipykernel)",
   "language": "python",
   "name": "python3"
  },
  "language_info": {
   "codemirror_mode": {
    "name": "ipython",
    "version": 3
   },
   "file_extension": ".py",
   "mimetype": "text/x-python",
   "name": "python",
   "nbconvert_exporter": "python",
   "pygments_lexer": "ipython3",
   "version": "3.10.9"
  }
 },
 "nbformat": 4,
 "nbformat_minor": 5
}
